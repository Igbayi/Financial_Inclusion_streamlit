{
 "cells": [
  {
   "cell_type": "markdown",
   "id": "3a1374e0-aed1-491b-a6cd-1c11cb269db7",
   "metadata": {},
   "source": [
    "In this checkpoint, we are going to work on the 'Financial Inclusion in Africa' dataset that was provided as part of the Financial Inclusion in Africa hosted by the Zindi platform.\n",
    "\n",
    "Dataset description: The dataset contains demographic information and what financial services are used by approximately 33,600 individuals across East Africa. The ML model role is to predict which individuals are most likely to have or use a bank account.\n",
    "\n",
    "The term financial inclusion means:  individuals and businesses have access to useful and affordable financial products and services that meet their needs – transactions, payments, savings, credit and insurance – delivered in a responsible and sustainable way"
   ]
  },
  {
   "cell_type": "code",
   "execution_count": 2,
   "id": "6ee5eb44-c89a-4afe-870b-3684f45db2d4",
   "metadata": {},
   "outputs": [],
   "source": [
    "## import neccessary libaries\n",
    "\n",
    "import pandas as pd\n",
    "import numpy as np\n",
    "import matplotlib.pyplot as plt\n",
    "import seaborn as sns\n",
    "\n",
    "### library for spliting dataset\n",
    "from sklearn.model_selection import train_test_split\n",
    "\n",
    "## machine learning model\n",
    "from sklearn.linear_model import LogisticRegression\n",
    "from sklearn import metrics\n",
    "\n",
    "import warnings\n",
    "warnings.filterwarnings(\"ignore\")"
   ]
  },
  {
   "cell_type": "markdown",
   "id": "b9ee50d0-4b5e-49fa-8187-b307aedaa1e3",
   "metadata": {},
   "source": [
    "## Import your data and perform basic data exploration phase"
   ]
  },
  {
   "cell_type": "code",
   "execution_count": 4,
   "id": "61fb7505-f33d-4838-8227-dea12139ac11",
   "metadata": {},
   "outputs": [
    {
     "data": {
      "text/html": [
       "<div>\n",
       "<style scoped>\n",
       "    .dataframe tbody tr th:only-of-type {\n",
       "        vertical-align: middle;\n",
       "    }\n",
       "\n",
       "    .dataframe tbody tr th {\n",
       "        vertical-align: top;\n",
       "    }\n",
       "\n",
       "    .dataframe thead th {\n",
       "        text-align: right;\n",
       "    }\n",
       "</style>\n",
       "<table border=\"1\" class=\"dataframe\">\n",
       "  <thead>\n",
       "    <tr style=\"text-align: right;\">\n",
       "      <th></th>\n",
       "      <th>country</th>\n",
       "      <th>year</th>\n",
       "      <th>uniqueid</th>\n",
       "      <th>bank_account</th>\n",
       "      <th>location_type</th>\n",
       "      <th>cellphone_access</th>\n",
       "      <th>household_size</th>\n",
       "      <th>age_of_respondent</th>\n",
       "      <th>gender_of_respondent</th>\n",
       "      <th>relationship_with_head</th>\n",
       "      <th>marital_status</th>\n",
       "      <th>education_level</th>\n",
       "      <th>job_type</th>\n",
       "    </tr>\n",
       "  </thead>\n",
       "  <tbody>\n",
       "    <tr>\n",
       "      <th>0</th>\n",
       "      <td>Kenya</td>\n",
       "      <td>2018</td>\n",
       "      <td>uniqueid_1</td>\n",
       "      <td>Yes</td>\n",
       "      <td>Rural</td>\n",
       "      <td>Yes</td>\n",
       "      <td>3</td>\n",
       "      <td>24</td>\n",
       "      <td>Female</td>\n",
       "      <td>Spouse</td>\n",
       "      <td>Married/Living together</td>\n",
       "      <td>Secondary education</td>\n",
       "      <td>Self employed</td>\n",
       "    </tr>\n",
       "    <tr>\n",
       "      <th>1</th>\n",
       "      <td>Kenya</td>\n",
       "      <td>2018</td>\n",
       "      <td>uniqueid_2</td>\n",
       "      <td>No</td>\n",
       "      <td>Rural</td>\n",
       "      <td>No</td>\n",
       "      <td>5</td>\n",
       "      <td>70</td>\n",
       "      <td>Female</td>\n",
       "      <td>Head of Household</td>\n",
       "      <td>Widowed</td>\n",
       "      <td>No formal education</td>\n",
       "      <td>Government Dependent</td>\n",
       "    </tr>\n",
       "    <tr>\n",
       "      <th>2</th>\n",
       "      <td>Kenya</td>\n",
       "      <td>2018</td>\n",
       "      <td>uniqueid_3</td>\n",
       "      <td>Yes</td>\n",
       "      <td>Urban</td>\n",
       "      <td>Yes</td>\n",
       "      <td>5</td>\n",
       "      <td>26</td>\n",
       "      <td>Male</td>\n",
       "      <td>Other relative</td>\n",
       "      <td>Single/Never Married</td>\n",
       "      <td>Vocational/Specialised training</td>\n",
       "      <td>Self employed</td>\n",
       "    </tr>\n",
       "    <tr>\n",
       "      <th>3</th>\n",
       "      <td>Kenya</td>\n",
       "      <td>2018</td>\n",
       "      <td>uniqueid_4</td>\n",
       "      <td>No</td>\n",
       "      <td>Rural</td>\n",
       "      <td>Yes</td>\n",
       "      <td>5</td>\n",
       "      <td>34</td>\n",
       "      <td>Female</td>\n",
       "      <td>Head of Household</td>\n",
       "      <td>Married/Living together</td>\n",
       "      <td>Primary education</td>\n",
       "      <td>Formally employed Private</td>\n",
       "    </tr>\n",
       "    <tr>\n",
       "      <th>4</th>\n",
       "      <td>Kenya</td>\n",
       "      <td>2018</td>\n",
       "      <td>uniqueid_5</td>\n",
       "      <td>No</td>\n",
       "      <td>Urban</td>\n",
       "      <td>No</td>\n",
       "      <td>8</td>\n",
       "      <td>26</td>\n",
       "      <td>Male</td>\n",
       "      <td>Child</td>\n",
       "      <td>Single/Never Married</td>\n",
       "      <td>Primary education</td>\n",
       "      <td>Informally employed</td>\n",
       "    </tr>\n",
       "  </tbody>\n",
       "</table>\n",
       "</div>"
      ],
      "text/plain": [
       "  country  year    uniqueid bank_account location_type cellphone_access  \\\n",
       "0   Kenya  2018  uniqueid_1          Yes         Rural              Yes   \n",
       "1   Kenya  2018  uniqueid_2           No         Rural               No   \n",
       "2   Kenya  2018  uniqueid_3          Yes         Urban              Yes   \n",
       "3   Kenya  2018  uniqueid_4           No         Rural              Yes   \n",
       "4   Kenya  2018  uniqueid_5           No         Urban               No   \n",
       "\n",
       "   household_size  age_of_respondent gender_of_respondent  \\\n",
       "0               3                 24               Female   \n",
       "1               5                 70               Female   \n",
       "2               5                 26                 Male   \n",
       "3               5                 34               Female   \n",
       "4               8                 26                 Male   \n",
       "\n",
       "  relationship_with_head           marital_status  \\\n",
       "0                 Spouse  Married/Living together   \n",
       "1      Head of Household                  Widowed   \n",
       "2         Other relative     Single/Never Married   \n",
       "3      Head of Household  Married/Living together   \n",
       "4                  Child     Single/Never Married   \n",
       "\n",
       "                   education_level                   job_type  \n",
       "0              Secondary education              Self employed  \n",
       "1              No formal education       Government Dependent  \n",
       "2  Vocational/Specialised training              Self employed  \n",
       "3                Primary education  Formally employed Private  \n",
       "4                Primary education        Informally employed  "
      ]
     },
     "execution_count": 4,
     "metadata": {},
     "output_type": "execute_result"
    }
   ],
   "source": [
    "df = pd.read_csv('Financial_inclusion_dataset.csv')\n",
    "df.head()"
   ]
  },
  {
   "cell_type": "code",
   "execution_count": 5,
   "id": "0d191085-bfa1-4661-8ecc-23f180fe3abd",
   "metadata": {},
   "outputs": [],
   "source": [
    "#  Create a pandas profiling reports to gain insights into the dataset\n",
    "## import profilereport libraries\n",
    "\n",
    "##from ydata_profiling import ProfileReport"
   ]
  },
  {
   "cell_type": "code",
   "execution_count": 6,
   "id": "bad28dd7-fee8-403c-8d55-da4947ab2a97",
   "metadata": {},
   "outputs": [],
   "source": [
    "### Generate the report\n",
    "\n",
    "##profile = ProfileReport(df, title = \"Financial Inclusion Report\")"
   ]
  },
  {
   "cell_type": "code",
   "execution_count": 7,
   "id": "65b5a75a-b525-4762-b3b9-d9c08ae784f9",
   "metadata": {},
   "outputs": [],
   "source": [
    "### Display the report in jupyter notebook\n",
    "\n",
    "#profile.to_notebook_iframe()"
   ]
  },
  {
   "cell_type": "code",
   "execution_count": 8,
   "id": "7f19d73d-cc00-4599-aefc-5c0e58c6dda8",
   "metadata": {},
   "outputs": [],
   "source": [
    "### To generate the profilereport in an HTML file\n",
    "\n",
    "#profile.to_file(\"Financial Inclusion Report.html\")"
   ]
  },
  {
   "cell_type": "code",
   "execution_count": 9,
   "id": "4d3f211e-542b-4cbd-a681-cfed7b560772",
   "metadata": {},
   "outputs": [
    {
     "data": {
      "text/html": [
       "<div>\n",
       "<style scoped>\n",
       "    .dataframe tbody tr th:only-of-type {\n",
       "        vertical-align: middle;\n",
       "    }\n",
       "\n",
       "    .dataframe tbody tr th {\n",
       "        vertical-align: top;\n",
       "    }\n",
       "\n",
       "    .dataframe thead th {\n",
       "        text-align: right;\n",
       "    }\n",
       "</style>\n",
       "<table border=\"1\" class=\"dataframe\">\n",
       "  <thead>\n",
       "    <tr style=\"text-align: right;\">\n",
       "      <th></th>\n",
       "      <th>year</th>\n",
       "      <th>household_size</th>\n",
       "      <th>age_of_respondent</th>\n",
       "    </tr>\n",
       "  </thead>\n",
       "  <tbody>\n",
       "    <tr>\n",
       "      <th>count</th>\n",
       "      <td>23524.000000</td>\n",
       "      <td>23524.000000</td>\n",
       "      <td>23524.000000</td>\n",
       "    </tr>\n",
       "    <tr>\n",
       "      <th>mean</th>\n",
       "      <td>2016.975939</td>\n",
       "      <td>3.797483</td>\n",
       "      <td>38.805220</td>\n",
       "    </tr>\n",
       "    <tr>\n",
       "      <th>std</th>\n",
       "      <td>0.847371</td>\n",
       "      <td>2.227613</td>\n",
       "      <td>16.520569</td>\n",
       "    </tr>\n",
       "    <tr>\n",
       "      <th>min</th>\n",
       "      <td>2016.000000</td>\n",
       "      <td>1.000000</td>\n",
       "      <td>16.000000</td>\n",
       "    </tr>\n",
       "    <tr>\n",
       "      <th>25%</th>\n",
       "      <td>2016.000000</td>\n",
       "      <td>2.000000</td>\n",
       "      <td>26.000000</td>\n",
       "    </tr>\n",
       "    <tr>\n",
       "      <th>50%</th>\n",
       "      <td>2017.000000</td>\n",
       "      <td>3.000000</td>\n",
       "      <td>35.000000</td>\n",
       "    </tr>\n",
       "    <tr>\n",
       "      <th>75%</th>\n",
       "      <td>2018.000000</td>\n",
       "      <td>5.000000</td>\n",
       "      <td>49.000000</td>\n",
       "    </tr>\n",
       "    <tr>\n",
       "      <th>max</th>\n",
       "      <td>2018.000000</td>\n",
       "      <td>21.000000</td>\n",
       "      <td>100.000000</td>\n",
       "    </tr>\n",
       "  </tbody>\n",
       "</table>\n",
       "</div>"
      ],
      "text/plain": [
       "               year  household_size  age_of_respondent\n",
       "count  23524.000000    23524.000000       23524.000000\n",
       "mean    2016.975939        3.797483          38.805220\n",
       "std        0.847371        2.227613          16.520569\n",
       "min     2016.000000        1.000000          16.000000\n",
       "25%     2016.000000        2.000000          26.000000\n",
       "50%     2017.000000        3.000000          35.000000\n",
       "75%     2018.000000        5.000000          49.000000\n",
       "max     2018.000000       21.000000         100.000000"
      ]
     },
     "execution_count": 9,
     "metadata": {},
     "output_type": "execute_result"
    }
   ],
   "source": [
    "# Exploring values in dataset\n",
    "\n",
    "df.describe()"
   ]
  },
  {
   "cell_type": "code",
   "execution_count": 10,
   "id": "dd1f1d46-2538-4c0b-befe-d18cab20ded0",
   "metadata": {},
   "outputs": [
    {
     "data": {
      "text/html": [
       "<div>\n",
       "<style scoped>\n",
       "    .dataframe tbody tr th:only-of-type {\n",
       "        vertical-align: middle;\n",
       "    }\n",
       "\n",
       "    .dataframe tbody tr th {\n",
       "        vertical-align: top;\n",
       "    }\n",
       "\n",
       "    .dataframe thead th {\n",
       "        text-align: right;\n",
       "    }\n",
       "</style>\n",
       "<table border=\"1\" class=\"dataframe\">\n",
       "  <thead>\n",
       "    <tr style=\"text-align: right;\">\n",
       "      <th></th>\n",
       "      <th>country</th>\n",
       "      <th>uniqueid</th>\n",
       "      <th>bank_account</th>\n",
       "      <th>location_type</th>\n",
       "      <th>cellphone_access</th>\n",
       "      <th>gender_of_respondent</th>\n",
       "      <th>relationship_with_head</th>\n",
       "      <th>marital_status</th>\n",
       "      <th>education_level</th>\n",
       "      <th>job_type</th>\n",
       "    </tr>\n",
       "  </thead>\n",
       "  <tbody>\n",
       "    <tr>\n",
       "      <th>count</th>\n",
       "      <td>23524</td>\n",
       "      <td>23524</td>\n",
       "      <td>23524</td>\n",
       "      <td>23524</td>\n",
       "      <td>23524</td>\n",
       "      <td>23524</td>\n",
       "      <td>23524</td>\n",
       "      <td>23524</td>\n",
       "      <td>23524</td>\n",
       "      <td>23524</td>\n",
       "    </tr>\n",
       "    <tr>\n",
       "      <th>unique</th>\n",
       "      <td>4</td>\n",
       "      <td>8735</td>\n",
       "      <td>2</td>\n",
       "      <td>2</td>\n",
       "      <td>2</td>\n",
       "      <td>2</td>\n",
       "      <td>6</td>\n",
       "      <td>5</td>\n",
       "      <td>6</td>\n",
       "      <td>10</td>\n",
       "    </tr>\n",
       "    <tr>\n",
       "      <th>top</th>\n",
       "      <td>Rwanda</td>\n",
       "      <td>uniqueid_1</td>\n",
       "      <td>No</td>\n",
       "      <td>Rural</td>\n",
       "      <td>Yes</td>\n",
       "      <td>Female</td>\n",
       "      <td>Head of Household</td>\n",
       "      <td>Married/Living together</td>\n",
       "      <td>Primary education</td>\n",
       "      <td>Self employed</td>\n",
       "    </tr>\n",
       "    <tr>\n",
       "      <th>freq</th>\n",
       "      <td>8735</td>\n",
       "      <td>4</td>\n",
       "      <td>20212</td>\n",
       "      <td>14343</td>\n",
       "      <td>17454</td>\n",
       "      <td>13877</td>\n",
       "      <td>12831</td>\n",
       "      <td>10749</td>\n",
       "      <td>12791</td>\n",
       "      <td>6437</td>\n",
       "    </tr>\n",
       "  </tbody>\n",
       "</table>\n",
       "</div>"
      ],
      "text/plain": [
       "       country    uniqueid bank_account location_type cellphone_access  \\\n",
       "count    23524       23524        23524         23524            23524   \n",
       "unique       4        8735            2             2                2   \n",
       "top     Rwanda  uniqueid_1           No         Rural              Yes   \n",
       "freq      8735           4        20212         14343            17454   \n",
       "\n",
       "       gender_of_respondent relationship_with_head           marital_status  \\\n",
       "count                 23524                  23524                    23524   \n",
       "unique                    2                      6                        5   \n",
       "top                  Female      Head of Household  Married/Living together   \n",
       "freq                  13877                  12831                    10749   \n",
       "\n",
       "          education_level       job_type  \n",
       "count               23524          23524  \n",
       "unique                  6             10  \n",
       "top     Primary education  Self employed  \n",
       "freq                12791           6437  "
      ]
     },
     "execution_count": 10,
     "metadata": {},
     "output_type": "execute_result"
    }
   ],
   "source": [
    "df.describe(include=[object]) "
   ]
  },
  {
   "cell_type": "code",
   "execution_count": 11,
   "id": "6b653719-dccf-48df-b2e8-a301c618e736",
   "metadata": {},
   "outputs": [
    {
     "name": "stdout",
     "output_type": "stream",
     "text": [
      "<class 'pandas.core.frame.DataFrame'>\n",
      "RangeIndex: 23524 entries, 0 to 23523\n",
      "Data columns (total 13 columns):\n",
      " #   Column                  Non-Null Count  Dtype \n",
      "---  ------                  --------------  ----- \n",
      " 0   country                 23524 non-null  object\n",
      " 1   year                    23524 non-null  int64 \n",
      " 2   uniqueid                23524 non-null  object\n",
      " 3   bank_account            23524 non-null  object\n",
      " 4   location_type           23524 non-null  object\n",
      " 5   cellphone_access        23524 non-null  object\n",
      " 6   household_size          23524 non-null  int64 \n",
      " 7   age_of_respondent       23524 non-null  int64 \n",
      " 8   gender_of_respondent    23524 non-null  object\n",
      " 9   relationship_with_head  23524 non-null  object\n",
      " 10  marital_status          23524 non-null  object\n",
      " 11  education_level         23524 non-null  object\n",
      " 12  job_type                23524 non-null  object\n",
      "dtypes: int64(3), object(10)\n",
      "memory usage: 2.3+ MB\n"
     ]
    }
   ],
   "source": [
    "df.info()"
   ]
  },
  {
   "cell_type": "code",
   "execution_count": 12,
   "id": "01e747b6-81a1-44bf-bd14-388f25858c6f",
   "metadata": {},
   "outputs": [
    {
     "data": {
      "text/plain": [
       "country                   0\n",
       "year                      0\n",
       "uniqueid                  0\n",
       "bank_account              0\n",
       "location_type             0\n",
       "cellphone_access          0\n",
       "household_size            0\n",
       "age_of_respondent         0\n",
       "gender_of_respondent      0\n",
       "relationship_with_head    0\n",
       "marital_status            0\n",
       "education_level           0\n",
       "job_type                  0\n",
       "dtype: int64"
      ]
     },
     "execution_count": 12,
     "metadata": {},
     "output_type": "execute_result"
    }
   ],
   "source": [
    "df.isnull().sum()"
   ]
  },
  {
   "cell_type": "code",
   "execution_count": 13,
   "id": "0e679ecd-5955-45f0-ab41-dbcd1120bbd1",
   "metadata": {},
   "outputs": [],
   "source": [
    "## Creating copy of original dataset\n",
    "df_copy = df.copy()"
   ]
  },
  {
   "cell_type": "code",
   "execution_count": 14,
   "id": "01503cdd-3895-46fe-a6f5-16515f548330",
   "metadata": {},
   "outputs": [
    {
     "data": {
      "text/plain": [
       "(23524, 13)"
      ]
     },
     "execution_count": 14,
     "metadata": {},
     "output_type": "execute_result"
    }
   ],
   "source": [
    "df.shape"
   ]
  },
  {
   "cell_type": "code",
   "execution_count": 15,
   "id": "063d53db-48b3-4332-b36c-5c8138f37000",
   "metadata": {},
   "outputs": [
    {
     "name": "stdout",
     "output_type": "stream",
     "text": [
      "Number of duplicate rows: 0\n"
     ]
    }
   ],
   "source": [
    "# Check duplicates\n",
    "print(f\"Number of duplicate rows: {df.duplicated().sum()}\")\n",
    "df = df.drop_duplicates()"
   ]
  },
  {
   "cell_type": "code",
   "execution_count": 16,
   "id": "bc28fbaa-018c-48ec-b644-fdc51df55320",
   "metadata": {},
   "outputs": [
    {
     "data": {
      "text/plain": [
       "uniqueid_1       4\n",
       "uniqueid_1413    4\n",
       "uniqueid_1411    4\n",
       "uniqueid_1410    4\n",
       "uniqueid_1409    4\n",
       "                ..\n",
       "uniqueid_7318    1\n",
       "uniqueid_7317    1\n",
       "uniqueid_7316    1\n",
       "uniqueid_7315    1\n",
       "uniqueid_8759    1\n",
       "Name: uniqueid, Length: 8735, dtype: int64"
      ]
     },
     "execution_count": 16,
     "metadata": {},
     "output_type": "execute_result"
    }
   ],
   "source": [
    "df['uniqueid'].value_counts()"
   ]
  },
  {
   "cell_type": "code",
   "execution_count": 17,
   "id": "637bbcae-5c04-4344-abf5-20a9324868ae",
   "metadata": {},
   "outputs": [
    {
     "data": {
      "text/plain": [
       "2016    8735\n",
       "2018    8169\n",
       "2017    6620\n",
       "Name: year, dtype: int64"
      ]
     },
     "execution_count": 17,
     "metadata": {},
     "output_type": "execute_result"
    }
   ],
   "source": [
    "df['year'].value_counts()"
   ]
  },
  {
   "cell_type": "code",
   "execution_count": 18,
   "id": "e21ed4b7-e992-4423-b849-ab5450ec7544",
   "metadata": {},
   "outputs": [
    {
     "data": {
      "text/plain": [
       "2     5229\n",
       "3     3920\n",
       "4     3474\n",
       "1     3057\n",
       "5     2853\n",
       "6     2096\n",
       "7     1400\n",
       "8      751\n",
       "9      363\n",
       "10     190\n",
       "11      69\n",
       "12      68\n",
       "13      25\n",
       "15      11\n",
       "14      10\n",
       "16       4\n",
       "21       1\n",
       "18       1\n",
       "17       1\n",
       "20       1\n",
       "Name: household_size, dtype: int64"
      ]
     },
     "execution_count": 18,
     "metadata": {},
     "output_type": "execute_result"
    }
   ],
   "source": [
    "df['household_size'].value_counts()"
   ]
  },
  {
   "cell_type": "code",
   "execution_count": 19,
   "id": "88ba7db3-092f-400e-ba0b-b23c9c51d734",
   "metadata": {},
   "outputs": [
    {
     "data": {
      "text/plain": [
       "20"
      ]
     },
     "execution_count": 19,
     "metadata": {},
     "output_type": "execute_result"
    }
   ],
   "source": [
    "df['household_size'].nunique()"
   ]
  },
  {
   "cell_type": "code",
   "execution_count": 20,
   "id": "62ff2001-685a-49b2-af3c-14abd841927d",
   "metadata": {},
   "outputs": [
    {
     "data": {
      "text/plain": [
       "30     1056\n",
       "35      836\n",
       "25      792\n",
       "28      748\n",
       "32      715\n",
       "       ... \n",
       "100       5\n",
       "93        4\n",
       "96        3\n",
       "99        2\n",
       "97        1\n",
       "Name: age_of_respondent, Length: 85, dtype: int64"
      ]
     },
     "execution_count": 20,
     "metadata": {},
     "output_type": "execute_result"
    }
   ],
   "source": [
    "df['age_of_respondent'].value_counts()"
   ]
  },
  {
   "cell_type": "code",
   "execution_count": 21,
   "id": "4c822363",
   "metadata": {},
   "outputs": [],
   "source": [
    "# Drop the 'user_id' column\n",
    "df = df.drop(['uniqueid'], axis=1, errors='ignore')"
   ]
  },
  {
   "cell_type": "code",
   "execution_count": 22,
   "id": "398d258f-eedc-476c-a4a3-cdebdf29979b",
   "metadata": {},
   "outputs": [
    {
     "data": {
      "text/html": [
       "<div>\n",
       "<style scoped>\n",
       "    .dataframe tbody tr th:only-of-type {\n",
       "        vertical-align: middle;\n",
       "    }\n",
       "\n",
       "    .dataframe tbody tr th {\n",
       "        vertical-align: top;\n",
       "    }\n",
       "\n",
       "    .dataframe thead th {\n",
       "        text-align: right;\n",
       "    }\n",
       "</style>\n",
       "<table border=\"1\" class=\"dataframe\">\n",
       "  <thead>\n",
       "    <tr style=\"text-align: right;\">\n",
       "      <th></th>\n",
       "      <th>country</th>\n",
       "      <th>year</th>\n",
       "      <th>bank_account</th>\n",
       "      <th>location_type</th>\n",
       "      <th>cellphone_access</th>\n",
       "      <th>household_size</th>\n",
       "      <th>age_of_respondent</th>\n",
       "      <th>gender_of_respondent</th>\n",
       "      <th>relationship_with_head</th>\n",
       "      <th>marital_status</th>\n",
       "      <th>education_level</th>\n",
       "      <th>job_type</th>\n",
       "    </tr>\n",
       "  </thead>\n",
       "  <tbody>\n",
       "    <tr>\n",
       "      <th>0</th>\n",
       "      <td>0</td>\n",
       "      <td>2</td>\n",
       "      <td>1</td>\n",
       "      <td>0</td>\n",
       "      <td>1</td>\n",
       "      <td>3</td>\n",
       "      <td>24</td>\n",
       "      <td>0</td>\n",
       "      <td>5</td>\n",
       "      <td>2</td>\n",
       "      <td>3</td>\n",
       "      <td>9</td>\n",
       "    </tr>\n",
       "    <tr>\n",
       "      <th>1</th>\n",
       "      <td>0</td>\n",
       "      <td>2</td>\n",
       "      <td>0</td>\n",
       "      <td>0</td>\n",
       "      <td>0</td>\n",
       "      <td>5</td>\n",
       "      <td>70</td>\n",
       "      <td>0</td>\n",
       "      <td>1</td>\n",
       "      <td>4</td>\n",
       "      <td>0</td>\n",
       "      <td>4</td>\n",
       "    </tr>\n",
       "    <tr>\n",
       "      <th>2</th>\n",
       "      <td>0</td>\n",
       "      <td>2</td>\n",
       "      <td>1</td>\n",
       "      <td>1</td>\n",
       "      <td>1</td>\n",
       "      <td>5</td>\n",
       "      <td>26</td>\n",
       "      <td>1</td>\n",
       "      <td>3</td>\n",
       "      <td>3</td>\n",
       "      <td>5</td>\n",
       "      <td>9</td>\n",
       "    </tr>\n",
       "    <tr>\n",
       "      <th>3</th>\n",
       "      <td>0</td>\n",
       "      <td>2</td>\n",
       "      <td>0</td>\n",
       "      <td>0</td>\n",
       "      <td>1</td>\n",
       "      <td>5</td>\n",
       "      <td>34</td>\n",
       "      <td>0</td>\n",
       "      <td>1</td>\n",
       "      <td>2</td>\n",
       "      <td>2</td>\n",
       "      <td>3</td>\n",
       "    </tr>\n",
       "    <tr>\n",
       "      <th>4</th>\n",
       "      <td>0</td>\n",
       "      <td>2</td>\n",
       "      <td>0</td>\n",
       "      <td>1</td>\n",
       "      <td>0</td>\n",
       "      <td>8</td>\n",
       "      <td>26</td>\n",
       "      <td>1</td>\n",
       "      <td>0</td>\n",
       "      <td>3</td>\n",
       "      <td>2</td>\n",
       "      <td>5</td>\n",
       "    </tr>\n",
       "    <tr>\n",
       "      <th>...</th>\n",
       "      <td>...</td>\n",
       "      <td>...</td>\n",
       "      <td>...</td>\n",
       "      <td>...</td>\n",
       "      <td>...</td>\n",
       "      <td>...</td>\n",
       "      <td>...</td>\n",
       "      <td>...</td>\n",
       "      <td>...</td>\n",
       "      <td>...</td>\n",
       "      <td>...</td>\n",
       "      <td>...</td>\n",
       "    </tr>\n",
       "    <tr>\n",
       "      <th>23519</th>\n",
       "      <td>3</td>\n",
       "      <td>2</td>\n",
       "      <td>0</td>\n",
       "      <td>0</td>\n",
       "      <td>1</td>\n",
       "      <td>4</td>\n",
       "      <td>48</td>\n",
       "      <td>0</td>\n",
       "      <td>1</td>\n",
       "      <td>0</td>\n",
       "      <td>0</td>\n",
       "      <td>7</td>\n",
       "    </tr>\n",
       "    <tr>\n",
       "      <th>23520</th>\n",
       "      <td>3</td>\n",
       "      <td>2</td>\n",
       "      <td>0</td>\n",
       "      <td>0</td>\n",
       "      <td>1</td>\n",
       "      <td>2</td>\n",
       "      <td>27</td>\n",
       "      <td>0</td>\n",
       "      <td>1</td>\n",
       "      <td>3</td>\n",
       "      <td>3</td>\n",
       "      <td>7</td>\n",
       "    </tr>\n",
       "    <tr>\n",
       "      <th>23521</th>\n",
       "      <td>3</td>\n",
       "      <td>2</td>\n",
       "      <td>0</td>\n",
       "      <td>0</td>\n",
       "      <td>1</td>\n",
       "      <td>5</td>\n",
       "      <td>27</td>\n",
       "      <td>0</td>\n",
       "      <td>4</td>\n",
       "      <td>4</td>\n",
       "      <td>2</td>\n",
       "      <td>7</td>\n",
       "    </tr>\n",
       "    <tr>\n",
       "      <th>23522</th>\n",
       "      <td>3</td>\n",
       "      <td>2</td>\n",
       "      <td>0</td>\n",
       "      <td>1</td>\n",
       "      <td>1</td>\n",
       "      <td>7</td>\n",
       "      <td>30</td>\n",
       "      <td>0</td>\n",
       "      <td>4</td>\n",
       "      <td>0</td>\n",
       "      <td>3</td>\n",
       "      <td>9</td>\n",
       "    </tr>\n",
       "    <tr>\n",
       "      <th>23523</th>\n",
       "      <td>3</td>\n",
       "      <td>2</td>\n",
       "      <td>0</td>\n",
       "      <td>0</td>\n",
       "      <td>1</td>\n",
       "      <td>10</td>\n",
       "      <td>20</td>\n",
       "      <td>1</td>\n",
       "      <td>0</td>\n",
       "      <td>3</td>\n",
       "      <td>3</td>\n",
       "      <td>6</td>\n",
       "    </tr>\n",
       "  </tbody>\n",
       "</table>\n",
       "<p>23524 rows × 12 columns</p>\n",
       "</div>"
      ],
      "text/plain": [
       "       country  year  bank_account  location_type  cellphone_access  \\\n",
       "0            0     2             1              0                 1   \n",
       "1            0     2             0              0                 0   \n",
       "2            0     2             1              1                 1   \n",
       "3            0     2             0              0                 1   \n",
       "4            0     2             0              1                 0   \n",
       "...        ...   ...           ...            ...               ...   \n",
       "23519        3     2             0              0                 1   \n",
       "23520        3     2             0              0                 1   \n",
       "23521        3     2             0              0                 1   \n",
       "23522        3     2             0              1                 1   \n",
       "23523        3     2             0              0                 1   \n",
       "\n",
       "       household_size  age_of_respondent  gender_of_respondent  \\\n",
       "0                   3                 24                     0   \n",
       "1                   5                 70                     0   \n",
       "2                   5                 26                     1   \n",
       "3                   5                 34                     0   \n",
       "4                   8                 26                     1   \n",
       "...               ...                ...                   ...   \n",
       "23519               4                 48                     0   \n",
       "23520               2                 27                     0   \n",
       "23521               5                 27                     0   \n",
       "23522               7                 30                     0   \n",
       "23523              10                 20                     1   \n",
       "\n",
       "       relationship_with_head  marital_status  education_level  job_type  \n",
       "0                           5               2                3         9  \n",
       "1                           1               4                0         4  \n",
       "2                           3               3                5         9  \n",
       "3                           1               2                2         3  \n",
       "4                           0               3                2         5  \n",
       "...                       ...             ...              ...       ...  \n",
       "23519                       1               0                0         7  \n",
       "23520                       1               3                3         7  \n",
       "23521                       4               4                2         7  \n",
       "23522                       4               0                3         9  \n",
       "23523                       0               3                3         6  \n",
       "\n",
       "[23524 rows x 12 columns]"
      ]
     },
     "execution_count": 22,
     "metadata": {},
     "output_type": "execute_result"
    }
   ],
   "source": [
    "from sklearn.preprocessing import LabelEncoder\n",
    "\n",
    "## intialize labelencoder\n",
    "year_encoder = LabelEncoder()\n",
    "country_encoder = LabelEncoder()\n",
    "bank_account_encoder = LabelEncoder()\n",
    "location_type_encoder = LabelEncoder()\n",
    "cellphone_access_encoder = LabelEncoder()\n",
    "gender_of_respondent_encoder = LabelEncoder()\n",
    "relationship_with_head_encoder = LabelEncoder()\n",
    "marital_status_encoder = LabelEncoder()\n",
    "education_level_encoder = LabelEncoder()\n",
    "job_type_encoder = LabelEncoder()\n",
    "\n",
    "\n",
    "# Transforming each column\n",
    "df[\"year\"] = year_encoder.fit_transform(df[\"year\"])\n",
    "df[\"country\"] = country_encoder.fit_transform(df[\"country\"])\n",
    "df[\"bank_account\"] = bank_account_encoder.fit_transform(df[\"bank_account\"])\n",
    "df[\"location_type\"] = location_type_encoder.fit_transform(df[\"location_type\"])\n",
    "df[\"cellphone_access\"] = cellphone_access_encoder.fit_transform(df[\"cellphone_access\"])\n",
    "df[\"gender_of_respondent\"] = gender_of_respondent_encoder.fit_transform(df[\"gender_of_respondent\"])\n",
    "df[\"relationship_with_head\"] = relationship_with_head_encoder.fit_transform(df[\"relationship_with_head\"])\n",
    "df[\"marital_status\"] = marital_status_encoder.fit_transform(df[\"marital_status\"])\n",
    "df[\"education_level\"] = education_level_encoder.fit_transform(df[\"education_level\"])\n",
    "df[\"job_type\"] = job_type_encoder.fit_transform(df[\"job_type\"])\n",
    "\n",
    "df"
   ]
  },
  {
   "cell_type": "code",
   "execution_count": 23,
   "id": "d7cc0821-b439-48ca-846b-91930902d539",
   "metadata": {},
   "outputs": [
    {
     "name": "stdout",
     "output_type": "stream",
     "text": [
      "year Mapping: {2016: 0, 2017: 1, 2018: 2}\n"
     ]
    }
   ],
   "source": [
    "# View the assigned number to each category\n",
    "print(\"year Mapping:\", dict(zip(year_encoder.classes_, range(len(year_encoder.classes_)))))"
   ]
  },
  {
   "cell_type": "code",
   "execution_count": 24,
   "id": "92894a71-ac52-4f0c-ad52-85179ca15f2a",
   "metadata": {},
   "outputs": [
    {
     "name": "stdout",
     "output_type": "stream",
     "text": [
      "country Mapping: {'Kenya': 0, 'Rwanda': 1, 'Tanzania': 2, 'Uganda': 3}\n"
     ]
    }
   ],
   "source": [
    "# View the assigned number to each category\n",
    "print(\"country Mapping:\", dict(zip(country_encoder.classes_, range(len(country_encoder.classes_)))))"
   ]
  },
  {
   "cell_type": "code",
   "execution_count": 25,
   "id": "7517b101-e42e-408b-a12d-d01f4491997b",
   "metadata": {},
   "outputs": [
    {
     "name": "stdout",
     "output_type": "stream",
     "text": [
      "location_type Mapping: {'Rural': 0, 'Urban': 1}\n"
     ]
    }
   ],
   "source": [
    "# View the assigned number to each category\n",
    "print(\"location_type Mapping:\", dict(zip(location_type_encoder.classes_, range(len(location_type_encoder.classes_)))))"
   ]
  },
  {
   "cell_type": "code",
   "execution_count": 26,
   "id": "38c7599d-894b-43d2-8837-8a2204efa806",
   "metadata": {},
   "outputs": [
    {
     "name": "stdout",
     "output_type": "stream",
     "text": [
      "cellphone_access Mapping: {'No': 0, 'Yes': 1}\n"
     ]
    }
   ],
   "source": [
    "# View the assigned number to each category\n",
    "print(\"cellphone_access Mapping:\", dict(zip(cellphone_access_encoder.classes_, range(len(cellphone_access_encoder.classes_)))))"
   ]
  },
  {
   "cell_type": "code",
   "execution_count": 27,
   "id": "22492baa-ab54-42ad-8a62-1fcb1ec3cfcd",
   "metadata": {},
   "outputs": [
    {
     "name": "stdout",
     "output_type": "stream",
     "text": [
      "gender_of_respondent Mapping: {'Female': 0, 'Male': 1}\n"
     ]
    }
   ],
   "source": [
    "# View the assigned number to each category\n",
    "print(\"gender_of_respondent Mapping:\", dict(zip(gender_of_respondent_encoder.classes_, range(len(gender_of_respondent_encoder.classes_)))))"
   ]
  },
  {
   "cell_type": "code",
   "execution_count": 28,
   "id": "ace63dc4-7461-40cb-b407-36abda4af6ef",
   "metadata": {},
   "outputs": [
    {
     "name": "stdout",
     "output_type": "stream",
     "text": [
      "relationship_with_head Mapping: {'Child': 0, 'Head of Household': 1, 'Other non-relatives': 2, 'Other relative': 3, 'Parent': 4, 'Spouse': 5}\n"
     ]
    }
   ],
   "source": [
    "# View the assigned number to each category\n",
    "print(\"relationship_with_head Mapping:\", dict(zip(relationship_with_head_encoder.classes_, range(len(relationship_with_head_encoder.classes_)))))"
   ]
  },
  {
   "cell_type": "code",
   "execution_count": 29,
   "id": "e8e32a43-5661-418d-b3e5-1af1a841130f",
   "metadata": {},
   "outputs": [
    {
     "name": "stdout",
     "output_type": "stream",
     "text": [
      "marital_status Mapping: {'Divorced/Seperated': 0, 'Dont know': 1, 'Married/Living together': 2, 'Single/Never Married': 3, 'Widowed': 4}\n"
     ]
    }
   ],
   "source": [
    "# View the assigned number to each category\n",
    "print(\"marital_status Mapping:\", dict(zip(marital_status_encoder.classes_, range(len(marital_status_encoder.classes_)))))"
   ]
  },
  {
   "cell_type": "code",
   "execution_count": 30,
   "id": "2068c7ba-d27b-4281-b45a-8ad5b7d1f53f",
   "metadata": {},
   "outputs": [
    {
     "name": "stdout",
     "output_type": "stream",
     "text": [
      "education_level Mapping: {'No formal education': 0, 'Other/Dont know/RTA': 1, 'Primary education': 2, 'Secondary education': 3, 'Tertiary education': 4, 'Vocational/Specialised training': 5}\n"
     ]
    }
   ],
   "source": [
    "# View the assigned number to each category\n",
    "print(\"education_level Mapping:\", dict(zip(education_level_encoder.classes_, range(len(education_level_encoder.classes_)))))"
   ]
  },
  {
   "cell_type": "code",
   "execution_count": 31,
   "id": "e4c66cb2-042a-45e0-975b-1535bc6f73db",
   "metadata": {},
   "outputs": [
    {
     "name": "stdout",
     "output_type": "stream",
     "text": [
      "job_type Mapping: {'Dont Know/Refuse to answer': 0, 'Farming and Fishing': 1, 'Formally employed Government': 2, 'Formally employed Private': 3, 'Government Dependent': 4, 'Informally employed': 5, 'No Income': 6, 'Other Income': 7, 'Remittance Dependent': 8, 'Self employed': 9}\n"
     ]
    }
   ],
   "source": [
    "# View the assigned number to each category\n",
    "print(\"job_type Mapping:\", dict(zip(job_type_encoder.classes_, range(len(job_type_encoder.classes_)))))"
   ]
  },
  {
   "cell_type": "code",
   "execution_count": 32,
   "id": "6f971d7e-f924-46f7-b7b8-d9fa1c006148",
   "metadata": {},
   "outputs": [
    {
     "data": {
      "text/html": [
       "<div>\n",
       "<style scoped>\n",
       "    .dataframe tbody tr th:only-of-type {\n",
       "        vertical-align: middle;\n",
       "    }\n",
       "\n",
       "    .dataframe tbody tr th {\n",
       "        vertical-align: top;\n",
       "    }\n",
       "\n",
       "    .dataframe thead th {\n",
       "        text-align: right;\n",
       "    }\n",
       "</style>\n",
       "<table border=\"1\" class=\"dataframe\">\n",
       "  <thead>\n",
       "    <tr style=\"text-align: right;\">\n",
       "      <th></th>\n",
       "      <th>country</th>\n",
       "      <th>year</th>\n",
       "      <th>bank_account</th>\n",
       "      <th>location_type</th>\n",
       "      <th>cellphone_access</th>\n",
       "      <th>household_size</th>\n",
       "      <th>age_of_respondent</th>\n",
       "      <th>gender_of_respondent</th>\n",
       "      <th>relationship_with_head</th>\n",
       "      <th>marital_status</th>\n",
       "      <th>education_level</th>\n",
       "      <th>job_type</th>\n",
       "    </tr>\n",
       "  </thead>\n",
       "  <tbody>\n",
       "    <tr>\n",
       "      <th>country</th>\n",
       "      <td>1.000000</td>\n",
       "      <td>-0.094991</td>\n",
       "      <td>-0.161362</td>\n",
       "      <td>0.152285</td>\n",
       "      <td>-0.150003</td>\n",
       "      <td>-0.119158</td>\n",
       "      <td>-0.058778</td>\n",
       "      <td>-0.027055</td>\n",
       "      <td>0.130408</td>\n",
       "      <td>0.009282</td>\n",
       "      <td>-0.050706</td>\n",
       "      <td>0.381066</td>\n",
       "    </tr>\n",
       "    <tr>\n",
       "      <th>year</th>\n",
       "      <td>-0.094991</td>\n",
       "      <td>1.000000</td>\n",
       "      <td>0.112318</td>\n",
       "      <td>0.214621</td>\n",
       "      <td>-0.066505</td>\n",
       "      <td>-0.052264</td>\n",
       "      <td>-0.019330</td>\n",
       "      <td>0.000317</td>\n",
       "      <td>0.001801</td>\n",
       "      <td>-0.026187</td>\n",
       "      <td>0.173869</td>\n",
       "      <td>0.266323</td>\n",
       "    </tr>\n",
       "    <tr>\n",
       "      <th>bank_account</th>\n",
       "      <td>-0.161362</td>\n",
       "      <td>0.112318</td>\n",
       "      <td>1.000000</td>\n",
       "      <td>0.087288</td>\n",
       "      <td>0.209669</td>\n",
       "      <td>-0.028326</td>\n",
       "      <td>0.019429</td>\n",
       "      <td>0.117234</td>\n",
       "      <td>-0.070853</td>\n",
       "      <td>-0.038739</td>\n",
       "      <td>0.323768</td>\n",
       "      <td>-0.064171</td>\n",
       "    </tr>\n",
       "    <tr>\n",
       "      <th>location_type</th>\n",
       "      <td>0.152285</td>\n",
       "      <td>0.214621</td>\n",
       "      <td>0.087288</td>\n",
       "      <td>1.000000</td>\n",
       "      <td>-0.085238</td>\n",
       "      <td>-0.257284</td>\n",
       "      <td>-0.047373</td>\n",
       "      <td>0.012924</td>\n",
       "      <td>0.017042</td>\n",
       "      <td>0.080406</td>\n",
       "      <td>0.126128</td>\n",
       "      <td>0.368606</td>\n",
       "    </tr>\n",
       "    <tr>\n",
       "      <th>cellphone_access</th>\n",
       "      <td>-0.150003</td>\n",
       "      <td>-0.066505</td>\n",
       "      <td>0.209669</td>\n",
       "      <td>-0.085238</td>\n",
       "      <td>1.000000</td>\n",
       "      <td>0.091360</td>\n",
       "      <td>-0.103611</td>\n",
       "      <td>0.102370</td>\n",
       "      <td>-0.048705</td>\n",
       "      <td>-0.094195</td>\n",
       "      <td>0.252970</td>\n",
       "      <td>-0.146141</td>\n",
       "    </tr>\n",
       "    <tr>\n",
       "      <th>household_size</th>\n",
       "      <td>-0.119158</td>\n",
       "      <td>-0.052264</td>\n",
       "      <td>-0.028326</td>\n",
       "      <td>-0.257284</td>\n",
       "      <td>0.091360</td>\n",
       "      <td>1.000000</td>\n",
       "      <td>-0.129729</td>\n",
       "      <td>0.014576</td>\n",
       "      <td>0.104048</td>\n",
       "      <td>-0.127737</td>\n",
       "      <td>0.001613</td>\n",
       "      <td>-0.156835</td>\n",
       "    </tr>\n",
       "    <tr>\n",
       "      <th>age_of_respondent</th>\n",
       "      <td>-0.058778</td>\n",
       "      <td>-0.019330</td>\n",
       "      <td>0.019429</td>\n",
       "      <td>-0.047373</td>\n",
       "      <td>-0.103611</td>\n",
       "      <td>-0.129729</td>\n",
       "      <td>1.000000</td>\n",
       "      <td>0.012745</td>\n",
       "      <td>-0.151477</td>\n",
       "      <td>0.222908</td>\n",
       "      <td>-0.352970</td>\n",
       "      <td>-0.102770</td>\n",
       "    </tr>\n",
       "    <tr>\n",
       "      <th>gender_of_respondent</th>\n",
       "      <td>-0.027055</td>\n",
       "      <td>0.000317</td>\n",
       "      <td>0.117234</td>\n",
       "      <td>0.012924</td>\n",
       "      <td>0.102370</td>\n",
       "      <td>0.014576</td>\n",
       "      <td>0.012745</td>\n",
       "      <td>1.000000</td>\n",
       "      <td>-0.472048</td>\n",
       "      <td>-0.103238</td>\n",
       "      <td>0.119883</td>\n",
       "      <td>-0.029734</td>\n",
       "    </tr>\n",
       "    <tr>\n",
       "      <th>relationship_with_head</th>\n",
       "      <td>0.130408</td>\n",
       "      <td>0.001801</td>\n",
       "      <td>-0.070853</td>\n",
       "      <td>0.017042</td>\n",
       "      <td>-0.048705</td>\n",
       "      <td>0.104048</td>\n",
       "      <td>-0.151477</td>\n",
       "      <td>-0.472048</td>\n",
       "      <td>1.000000</td>\n",
       "      <td>-0.142229</td>\n",
       "      <td>-0.017141</td>\n",
       "      <td>0.041006</td>\n",
       "    </tr>\n",
       "    <tr>\n",
       "      <th>marital_status</th>\n",
       "      <td>0.009282</td>\n",
       "      <td>-0.026187</td>\n",
       "      <td>-0.038739</td>\n",
       "      <td>0.080406</td>\n",
       "      <td>-0.094195</td>\n",
       "      <td>-0.127737</td>\n",
       "      <td>0.222908</td>\n",
       "      <td>-0.103238</td>\n",
       "      <td>-0.142229</td>\n",
       "      <td>1.000000</td>\n",
       "      <td>-0.123628</td>\n",
       "      <td>0.056011</td>\n",
       "    </tr>\n",
       "    <tr>\n",
       "      <th>education_level</th>\n",
       "      <td>-0.050706</td>\n",
       "      <td>0.173869</td>\n",
       "      <td>0.323768</td>\n",
       "      <td>0.126128</td>\n",
       "      <td>0.252970</td>\n",
       "      <td>0.001613</td>\n",
       "      <td>-0.352970</td>\n",
       "      <td>0.119883</td>\n",
       "      <td>-0.017141</td>\n",
       "      <td>-0.123628</td>\n",
       "      <td>1.000000</td>\n",
       "      <td>0.043823</td>\n",
       "    </tr>\n",
       "    <tr>\n",
       "      <th>job_type</th>\n",
       "      <td>0.381066</td>\n",
       "      <td>0.266323</td>\n",
       "      <td>-0.064171</td>\n",
       "      <td>0.368606</td>\n",
       "      <td>-0.146141</td>\n",
       "      <td>-0.156835</td>\n",
       "      <td>-0.102770</td>\n",
       "      <td>-0.029734</td>\n",
       "      <td>0.041006</td>\n",
       "      <td>0.056011</td>\n",
       "      <td>0.043823</td>\n",
       "      <td>1.000000</td>\n",
       "    </tr>\n",
       "  </tbody>\n",
       "</table>\n",
       "</div>"
      ],
      "text/plain": [
       "                         country      year  bank_account  location_type  \\\n",
       "country                 1.000000 -0.094991     -0.161362       0.152285   \n",
       "year                   -0.094991  1.000000      0.112318       0.214621   \n",
       "bank_account           -0.161362  0.112318      1.000000       0.087288   \n",
       "location_type           0.152285  0.214621      0.087288       1.000000   \n",
       "cellphone_access       -0.150003 -0.066505      0.209669      -0.085238   \n",
       "household_size         -0.119158 -0.052264     -0.028326      -0.257284   \n",
       "age_of_respondent      -0.058778 -0.019330      0.019429      -0.047373   \n",
       "gender_of_respondent   -0.027055  0.000317      0.117234       0.012924   \n",
       "relationship_with_head  0.130408  0.001801     -0.070853       0.017042   \n",
       "marital_status          0.009282 -0.026187     -0.038739       0.080406   \n",
       "education_level        -0.050706  0.173869      0.323768       0.126128   \n",
       "job_type                0.381066  0.266323     -0.064171       0.368606   \n",
       "\n",
       "                        cellphone_access  household_size  age_of_respondent  \\\n",
       "country                        -0.150003       -0.119158          -0.058778   \n",
       "year                           -0.066505       -0.052264          -0.019330   \n",
       "bank_account                    0.209669       -0.028326           0.019429   \n",
       "location_type                  -0.085238       -0.257284          -0.047373   \n",
       "cellphone_access                1.000000        0.091360          -0.103611   \n",
       "household_size                  0.091360        1.000000          -0.129729   \n",
       "age_of_respondent              -0.103611       -0.129729           1.000000   \n",
       "gender_of_respondent            0.102370        0.014576           0.012745   \n",
       "relationship_with_head         -0.048705        0.104048          -0.151477   \n",
       "marital_status                 -0.094195       -0.127737           0.222908   \n",
       "education_level                 0.252970        0.001613          -0.352970   \n",
       "job_type                       -0.146141       -0.156835          -0.102770   \n",
       "\n",
       "                        gender_of_respondent  relationship_with_head  \\\n",
       "country                            -0.027055                0.130408   \n",
       "year                                0.000317                0.001801   \n",
       "bank_account                        0.117234               -0.070853   \n",
       "location_type                       0.012924                0.017042   \n",
       "cellphone_access                    0.102370               -0.048705   \n",
       "household_size                      0.014576                0.104048   \n",
       "age_of_respondent                   0.012745               -0.151477   \n",
       "gender_of_respondent                1.000000               -0.472048   \n",
       "relationship_with_head             -0.472048                1.000000   \n",
       "marital_status                     -0.103238               -0.142229   \n",
       "education_level                     0.119883               -0.017141   \n",
       "job_type                           -0.029734                0.041006   \n",
       "\n",
       "                        marital_status  education_level  job_type  \n",
       "country                       0.009282        -0.050706  0.381066  \n",
       "year                         -0.026187         0.173869  0.266323  \n",
       "bank_account                 -0.038739         0.323768 -0.064171  \n",
       "location_type                 0.080406         0.126128  0.368606  \n",
       "cellphone_access             -0.094195         0.252970 -0.146141  \n",
       "household_size               -0.127737         0.001613 -0.156835  \n",
       "age_of_respondent             0.222908        -0.352970 -0.102770  \n",
       "gender_of_respondent         -0.103238         0.119883 -0.029734  \n",
       "relationship_with_head       -0.142229        -0.017141  0.041006  \n",
       "marital_status                1.000000        -0.123628  0.056011  \n",
       "education_level              -0.123628         1.000000  0.043823  \n",
       "job_type                      0.056011         0.043823  1.000000  "
      ]
     },
     "execution_count": 32,
     "metadata": {},
     "output_type": "execute_result"
    }
   ],
   "source": [
    "## check for correlation\n",
    "df.corr()"
   ]
  },
  {
   "cell_type": "code",
   "execution_count": 33,
   "id": "d7e78476-8818-4d08-9e92-88d90bc365e1",
   "metadata": {},
   "outputs": [
    {
     "data": {
      "text/plain": [
       "<AxesSubplot:>"
      ]
     },
     "execution_count": 33,
     "metadata": {},
     "output_type": "execute_result"
    },
    {
     "data": {
      "image/png": "[encoded data removed]",
      "text/plain": [
       "<Figure size 1152x360 with 2 Axes>"
      ]
     },
     "metadata": {
      "needs_background": "light"
     },
     "output_type": "display_data"
    }
   ],
   "source": [
    "## Heat map showing correlations\n",
    "plt.figure(figsize=(16,5))\n",
    "sns.heatmap(df.corr(), annot = True, linewidths=.4)"
   ]
  },
  {
   "cell_type": "code",
   "execution_count": 34,
   "id": "35fc1bcb-9f94-48c9-8cba-14b67a77b0d8",
   "metadata": {},
   "outputs": [],
   "source": [
    "## Visualizing relationships within data set\n",
    "##sns.pairplot(data=df)"
   ]
  },
  {
   "cell_type": "code",
   "execution_count": 35,
   "id": "313b14b0-2b23-4372-ac91-70ea922254b8",
   "metadata": {},
   "outputs": [
    {
     "data": {
      "image/png": "[encoded data removed]",
      "text/plain": [
       "<Figure size 432x288 with 1 Axes>"
      ]
     },
     "metadata": {
      "needs_background": "light"
     },
     "output_type": "display_data"
    }
   ],
   "source": [
    "# Checking for outliers\n",
    "plt.boxplot(df['country'])\n",
    "plt.show()"
   ]
  },
  {
   "cell_type": "code",
   "execution_count": 36,
   "id": "b9a86153-2bd4-4249-ae25-c3cb99103889",
   "metadata": {},
   "outputs": [
    {
     "data": {
      "image/png": "[encoded data removed]",
      "text/plain": [
       "<Figure size 432x288 with 1 Axes>"
      ]
     },
     "metadata": {
      "needs_background": "light"
     },
     "output_type": "display_data"
    }
   ],
   "source": [
    "# Checking for outliers\n",
    "plt.boxplot(df['year'])\n",
    "plt.show()"
   ]
  },
  {
   "cell_type": "code",
   "execution_count": 37,
   "id": "2180b56f-4883-4e1a-be6a-cce2889ea64a",
   "metadata": {},
   "outputs": [
    {
     "data": {
      "image/png": "[encoded data removed]",
      "text/plain": [
       "<Figure size 432x288 with 1 Axes>"
      ]
     },
     "metadata": {
      "needs_background": "light"
     },
     "output_type": "display_data"
    }
   ],
   "source": [
    "# Checking for outliers\n",
    "plt.boxplot(df['location_type'])\n",
    "plt.show()"
   ]
  },
  {
   "cell_type": "code",
   "execution_count": 38,
   "id": "58a0666c-a3a2-4931-b8d8-230987c8ec7d",
   "metadata": {},
   "outputs": [
    {
     "data": {
      "image/png": "[encoded data removed]",
      "text/plain": [
       "<Figure size 432x288 with 1 Axes>"
      ]
     },
     "metadata": {
      "needs_background": "light"
     },
     "output_type": "display_data"
    }
   ],
   "source": [
    "# Checking for outliers\n",
    "plt.boxplot(df['cellphone_access'])\n",
    "plt.show()"
   ]
  },
  {
   "cell_type": "code",
   "execution_count": 39,
   "id": "08917e32-f412-4b6a-8a36-4cad5dc4fc11",
   "metadata": {},
   "outputs": [
    {
     "data": {
      "image/png": "[encoded data removed]",
      "text/plain": [
       "<Figure size 432x288 with 1 Axes>"
      ]
     },
     "metadata": {
      "needs_background": "light"
     },
     "output_type": "display_data"
    }
   ],
   "source": [
    "# Checking for outliers\n",
    "plt.boxplot(df['household_size'])\n",
    "plt.show()"
   ]
  },
  {
   "cell_type": "code",
   "execution_count": 40,
   "id": "a91c7779-bc57-4b9a-b605-e94a5a6e6cc4",
   "metadata": {},
   "outputs": [
    {
     "data": {
      "image/png": "[encoded data removed]",
      "text/plain": [
       "<Figure size 432x288 with 1 Axes>"
      ]
     },
     "metadata": {
      "needs_background": "light"
     },
     "output_type": "display_data"
    }
   ],
   "source": [
    "# Checking for outliers\n",
    "plt.boxplot(df['age_of_respondent'])\n",
    "plt.show()"
   ]
  },
  {
   "cell_type": "code",
   "execution_count": 41,
   "id": "6fc0e61d-e6dd-4b8c-95ea-db48fa63b8d0",
   "metadata": {},
   "outputs": [
    {
     "data": {
      "image/png": "[encoded data removed]",
      "text/plain": [
       "<Figure size 432x288 with 1 Axes>"
      ]
     },
     "metadata": {
      "needs_background": "light"
     },
     "output_type": "display_data"
    }
   ],
   "source": [
    "# Checking for outliers\n",
    "plt.boxplot(df['bank_account'])\n",
    "plt.show()"
   ]
  },
  {
   "cell_type": "code",
   "execution_count": 42,
   "id": "85b035b9-5040-4bc1-a03d-815c07dc299f",
   "metadata": {},
   "outputs": [
    {
     "data": {
      "image/png": "[encoded data removed]",
      "text/plain": [
       "<Figure size 432x288 with 1 Axes>"
      ]
     },
     "metadata": {
      "needs_background": "light"
     },
     "output_type": "display_data"
    }
   ],
   "source": [
    "# Checking for outliers\n",
    "plt.boxplot(df['relationship_with_head'])\n",
    "plt.show()"
   ]
  },
  {
   "cell_type": "code",
   "execution_count": 43,
   "id": "9e7acf35-dc4a-4705-b4f2-0ca12b1195e7",
   "metadata": {},
   "outputs": [
    {
     "data": {
      "image/png": "[encoded data removed]",
      "text/plain": [
       "<Figure size 432x288 with 1 Axes>"
      ]
     },
     "metadata": {
      "needs_background": "light"
     },
     "output_type": "display_data"
    }
   ],
   "source": [
    "# Checking for outliers\n",
    "plt.boxplot(df['marital_status'])\n",
    "plt.show()"
   ]
  },
  {
   "cell_type": "code",
   "execution_count": 44,
   "id": "408dfbbf-ae56-491a-be6b-f8cb5641b7b2",
   "metadata": {},
   "outputs": [
    {
     "data": {
      "image/png": "[encoded data removed]",
      "text/plain": [
       "<Figure size 432x288 with 1 Axes>"
      ]
     },
     "metadata": {
      "needs_background": "light"
     },
     "output_type": "display_data"
    }
   ],
   "source": [
    "# Checking for outliers\n",
    "plt.boxplot(df['education_level'])\n",
    "plt.show()"
   ]
  },
  {
   "cell_type": "code",
   "execution_count": 45,
   "id": "322a5aa9-d09a-4619-a1f6-fec1e7c8f93a",
   "metadata": {},
   "outputs": [
    {
     "data": {
      "image/png": "[encoded data removed]",
      "text/plain": [
       "<Figure size 432x288 with 1 Axes>"
      ]
     },
     "metadata": {
      "needs_background": "light"
     },
     "output_type": "display_data"
    }
   ],
   "source": [
    "# Checking for outliers\n",
    "plt.boxplot(df['job_type'])\n",
    "plt.show()"
   ]
  },
  {
   "cell_type": "markdown",
   "id": "95ecf199-ad60-4a08-a0e4-ddf0fe207e80",
   "metadata": {},
   "source": [
    "#### There are few outliers in the dataset"
   ]
  },
  {
   "cell_type": "markdown",
   "id": "97b9ffef-f90c-43b9-b98b-8cce9ffe8442",
   "metadata": {},
   "source": [
    "## Supervised Learning Classification"
   ]
  },
  {
   "cell_type": "code",
   "execution_count": 48,
   "id": "190e8f5a",
   "metadata": {},
   "outputs": [
    {
     "name": "stdout",
     "output_type": "stream",
     "text": [
      "       country  year  location_type  cellphone_access  household_size  \\\n",
      "0            0     2              0                 1               3   \n",
      "1            0     2              0                 0               5   \n",
      "2            0     2              1                 1               5   \n",
      "3            0     2              0                 1               5   \n",
      "4            0     2              1                 0               8   \n",
      "...        ...   ...            ...               ...             ...   \n",
      "23519        3     2              0                 1               4   \n",
      "23520        3     2              0                 1               2   \n",
      "23521        3     2              0                 1               5   \n",
      "23522        3     2              1                 1               7   \n",
      "23523        3     2              0                 1              10   \n",
      "\n",
      "       age_of_respondent  gender_of_respondent  relationship_with_head  \\\n",
      "0                     24                     0                       5   \n",
      "1                     70                     0                       1   \n",
      "2                     26                     1                       3   \n",
      "3                     34                     0                       1   \n",
      "4                     26                     1                       0   \n",
      "...                  ...                   ...                     ...   \n",
      "23519                 48                     0                       1   \n",
      "23520                 27                     0                       1   \n",
      "23521                 27                     0                       4   \n",
      "23522                 30                     0                       4   \n",
      "23523                 20                     1                       0   \n",
      "\n",
      "       marital_status  education_level  job_type  \n",
      "0                   2                3         9  \n",
      "1                   4                0         4  \n",
      "2                   3                5         9  \n",
      "3                   2                2         3  \n",
      "4                   3                2         5  \n",
      "...               ...              ...       ...  \n",
      "23519               0                0         7  \n",
      "23520               3                3         7  \n",
      "23521               4                2         7  \n",
      "23522               0                3         9  \n",
      "23523               3                3         6  \n",
      "\n",
      "[23524 rows x 11 columns]\n",
      "0        1\n",
      "1        0\n",
      "2        1\n",
      "3        0\n",
      "4        0\n",
      "        ..\n",
      "23519    0\n",
      "23520    0\n",
      "23521    0\n",
      "23522    0\n",
      "23523    0\n",
      "Name: bank_account, Length: 23524, dtype: int32\n"
     ]
    }
   ],
   "source": [
    "# Select relevant features (x) and target (y)\n",
    "y = df['bank_account']\n",
    "x = df.drop(['bank_account'], axis=1, errors='ignore')\n",
    "\n",
    "print(x)\n",
    "print(y)"
   ]
  },
  {
   "cell_type": "code",
   "execution_count": 49,
   "id": "d1400f85-f2a5-45e2-9655-6fe48662776b",
   "metadata": {},
   "outputs": [
    {
     "data": {
      "text/plain": [
       "(23524, 11)"
      ]
     },
     "execution_count": 49,
     "metadata": {},
     "output_type": "execute_result"
    }
   ],
   "source": [
    "x.shape"
   ]
  },
  {
   "cell_type": "code",
   "execution_count": 50,
   "id": "8412bfd1-c842-4569-98c0-9478c7742470",
   "metadata": {},
   "outputs": [
    {
     "data": {
      "text/plain": [
       "(23524,)"
      ]
     },
     "execution_count": 50,
     "metadata": {},
     "output_type": "execute_result"
    }
   ],
   "source": [
    "y.shape"
   ]
  },
  {
   "cell_type": "code",
   "execution_count": 51,
   "id": "5ef6d48c-1683-4b5f-9e8f-b661e44d6144",
   "metadata": {},
   "outputs": [],
   "source": [
    "y= pd.DataFrame(y, columns=['bank_account'])"
   ]
  },
  {
   "cell_type": "code",
   "execution_count": 52,
   "id": "ee9cae78-f8dc-4533-8c24-e600b414c791",
   "metadata": {},
   "outputs": [
    {
     "name": "stdout",
     "output_type": "stream",
     "text": [
      "(23524, 1)\n",
      "       bank_account\n",
      "0                 1\n",
      "1                 0\n",
      "2                 1\n",
      "3                 0\n",
      "4                 0\n",
      "...             ...\n",
      "23519             0\n",
      "23520             0\n",
      "23521             0\n",
      "23522             0\n",
      "23523             0\n",
      "\n",
      "[23524 rows x 1 columns]\n"
     ]
    }
   ],
   "source": [
    "print(y.shape)\n",
    "print(y)"
   ]
  },
  {
   "cell_type": "code",
   "execution_count": 53,
   "id": "7460a056-e5c4-4f68-b057-7e3e68e0276d",
   "metadata": {},
   "outputs": [],
   "source": [
    "# Split your dataset to training and test sets\n",
    "\n",
    "#splitting data with test size of 20%\n",
    "\n",
    "x_train,x_test,y_train,y_test= train_test_split(x,y,test_size=0.2,random_state = 20)"
   ]
  },
  {
   "cell_type": "markdown",
   "id": "02bfef7f-0be9-4da7-8bc7-91d494c069fe",
   "metadata": {},
   "source": [
    "#### Logistic Regression Code"
   ]
  },
  {
   "cell_type": "code",
   "execution_count": 55,
   "id": "9c2d6060-49a4-400b-b853-d906d033c4c0",
   "metadata": {},
   "outputs": [
    {
     "data": {
      "text/plain": [
       "array([0, 0, 0, ..., 0, 0, 0])"
      ]
     },
     "execution_count": 55,
     "metadata": {},
     "output_type": "execute_result"
    }
   ],
   "source": [
    "from sklearn.metrics import accuracy_score, classification_report, confusion_matrix\n",
    "\n",
    "#build our logistic model\n",
    "logreg = LogisticRegression()\n",
    "\n",
    "#fitting training data\n",
    "logreg.fit(x_train, y_train)\n",
    "\n",
    "#testing model’s performance\n",
    "y_pred = logreg.predict(x_test)\n",
    "y_pred"
   ]
  },
  {
   "cell_type": "code",
   "execution_count": 56,
   "id": "db40f2d6-2671-46f3-99f7-f546cb152266",
   "metadata": {},
   "outputs": [
    {
     "name": "stdout",
     "output_type": "stream",
     "text": [
      "Logistic Regression Accuracy: 0.8752391073326249\n"
     ]
    }
   ],
   "source": [
    "# Evaluate\n",
    "accuracy = accuracy_score(y_test, y_pred)\n",
    "print(f\"Logistic Regression Accuracy: {accuracy}\")"
   ]
  },
  {
   "cell_type": "code",
   "execution_count": 57,
   "id": "5cdb6f40-2df7-4072-b64b-ba28c1703630",
   "metadata": {},
   "outputs": [
    {
     "name": "stdout",
     "output_type": "stream",
     "text": [
      "              precision    recall  f1-score   support\n",
      "\n",
      "           0       0.88      0.98      0.93      4036\n",
      "           1       0.70      0.22      0.33       669\n",
      "\n",
      "    accuracy                           0.88      4705\n",
      "   macro avg       0.79      0.60      0.63      4705\n",
      "weighted avg       0.86      0.88      0.85      4705\n",
      "\n"
     ]
    }
   ],
   "source": [
    "print(classification_report(y_test, y_pred))"
   ]
  },
  {
   "cell_type": "code",
   "execution_count": 58,
   "id": "49a17156-a330-4638-98eb-2a1b39e21a7c",
   "metadata": {},
   "outputs": [
    {
     "name": "stdout",
     "output_type": "stream",
     "text": [
      "Accuracy=0.88\n"
     ]
    }
   ],
   "source": [
    "print(\"Accuracy={:.2f}\".format(logreg.score(x_test, y_test)))"
   ]
  },
  {
   "cell_type": "markdown",
   "id": "c4946716-5900-4af2-84a3-7b1da1834837",
   "metadata": {},
   "source": [
    "### K-Nearest Neighbors (KNN) Classifier"
   ]
  },
  {
   "cell_type": "code",
   "execution_count": 60,
   "id": "337debb8-af27-4c3f-b11a-07863638a8d8",
   "metadata": {},
   "outputs": [
    {
     "name": "stdout",
     "output_type": "stream",
     "text": [
      "K-Nearest Neighbors Accuracy: 0.871413390010627\n",
      "              precision    recall  f1-score   support\n",
      "\n",
      "           0       0.89      0.97      0.93      4036\n",
      "           1       0.60      0.30      0.40       669\n",
      "\n",
      "    accuracy                           0.87      4705\n",
      "   macro avg       0.74      0.63      0.66      4705\n",
      "weighted avg       0.85      0.87      0.85      4705\n",
      "\n"
     ]
    }
   ],
   "source": [
    "from sklearn.neighbors import KNeighborsClassifier\n",
    "\n",
    "model = KNeighborsClassifier(n_neighbors=5)\n",
    "model.fit(x_train, y_train)\n",
    "k_pred = model.predict(x_test)\n",
    "\n",
    "# Evaluate\n",
    "accuracy = accuracy_score(y_test, k_pred)\n",
    "print(f\"K-Nearest Neighbors Accuracy: {accuracy}\")\n",
    "print(classification_report(y_test, k_pred))"
   ]
  },
  {
   "cell_type": "markdown",
   "id": "3664dbf2-1616-47dd-9ae4-f0bbb2b29478",
   "metadata": {},
   "source": [
    "### Support Vector Machine (SVM)"
   ]
  },
  {
   "cell_type": "code",
   "execution_count": 62,
   "id": "e90b5858-e891-41bf-9c26-e8890e86305a",
   "metadata": {},
   "outputs": [
    {
     "name": "stdout",
     "output_type": "stream",
     "text": [
      "SVM Accuracy: 0.8578108395324123\n",
      "              precision    recall  f1-score   support\n",
      "\n",
      "           0       0.86      1.00      0.92      4036\n",
      "           1       0.00      0.00      0.00       669\n",
      "\n",
      "    accuracy                           0.86      4705\n",
      "   macro avg       0.43      0.50      0.46      4705\n",
      "weighted avg       0.74      0.86      0.79      4705\n",
      "\n"
     ]
    }
   ],
   "source": [
    "from sklearn.svm import SVC\n",
    "\n",
    "model = SVC(kernel='linear')\n",
    "model.fit(x_train, y_train)\n",
    "S_pred = model.predict(x_test)\n",
    "\n",
    "# Evaluate\n",
    "accuracy = accuracy_score(y_test, S_pred)\n",
    "print(f\"SVM Accuracy: {accuracy}\")\n",
    "print(classification_report(y_test, S_pred))"
   ]
  },
  {
   "cell_type": "markdown",
   "id": "4afefa69-af57-429a-8a37-1fb2783424f1",
   "metadata": {},
   "source": [
    "### Decision Tree Classifier"
   ]
  },
  {
   "cell_type": "code",
   "execution_count": 64,
   "id": "da5817d7-afab-45d8-98ae-5f346c0a0fb6",
   "metadata": {},
   "outputs": [
    {
     "name": "stdout",
     "output_type": "stream",
     "text": [
      "Decision Tree Accuracy: 0.8384697130712009\n",
      "              precision    recall  f1-score   support\n",
      "\n",
      "           0       0.90      0.91      0.91      4036\n",
      "           1       0.43      0.42      0.43       669\n",
      "\n",
      "    accuracy                           0.84      4705\n",
      "   macro avg       0.67      0.67      0.67      4705\n",
      "weighted avg       0.84      0.84      0.84      4705\n",
      "\n"
     ]
    }
   ],
   "source": [
    "from sklearn.tree import DecisionTreeClassifier\n",
    "\n",
    "model = DecisionTreeClassifier()\n",
    "model.fit(x_train, y_train)\n",
    "D_pred = model.predict(x_test)\n",
    "\n",
    "# Evaluate\n",
    "accuracy = accuracy_score(y_test, D_pred)\n",
    "print(f\"Decision Tree Accuracy: {accuracy}\")\n",
    "print(classification_report(y_test, D_pred))"
   ]
  },
  {
   "cell_type": "markdown",
   "id": "2a9d30f1-d34e-4b6e-9369-2f3fb4c57112",
   "metadata": {},
   "source": [
    "### Random Forest Classifier"
   ]
  },
  {
   "cell_type": "code",
   "execution_count": 66,
   "id": "bc4b6f3a-0335-4a79-92aa-284043377730",
   "metadata": {},
   "outputs": [
    {
     "name": "stdout",
     "output_type": "stream",
     "text": [
      "Random Forest Accuracy: 0.869500531349628\n",
      "              precision    recall  f1-score   support\n",
      "\n",
      "           0       0.91      0.95      0.93      4036\n",
      "           1       0.56      0.41      0.47       669\n",
      "\n",
      "    accuracy                           0.87      4705\n",
      "   macro avg       0.73      0.68      0.70      4705\n",
      "weighted avg       0.86      0.87      0.86      4705\n",
      "\n"
     ]
    }
   ],
   "source": [
    "from sklearn.ensemble import RandomForestClassifier\n",
    "\n",
    "model = RandomForestClassifier(n_estimators=100)\n",
    "model.fit(x_train, y_train)\n",
    "R_pred = model.predict(x_test)\n",
    "\n",
    "# Evaluate\n",
    "accuracy = accuracy_score(y_test, R_pred)\n",
    "print(f\"Random Forest Accuracy: {accuracy}\")\n",
    "print(classification_report(y_test, R_pred))"
   ]
  },
  {
   "cell_type": "markdown",
   "id": "3cf5c2f1-599b-4926-a173-9bb12049fb53",
   "metadata": {},
   "source": [
    "### Gradient Boosting Classifier"
   ]
  },
  {
   "cell_type": "code",
   "execution_count": 68,
   "id": "aa4ee5a3-642f-433a-a5e5-053ffb822b49",
   "metadata": {},
   "outputs": [
    {
     "name": "stdout",
     "output_type": "stream",
     "text": [
      "Gradient Boosting Accuracy: 0.8890541976620616\n",
      "              precision    recall  f1-score   support\n",
      "\n",
      "           0       0.90      0.98      0.94      4036\n",
      "           1       0.74      0.34      0.47       669\n",
      "\n",
      "    accuracy                           0.89      4705\n",
      "   macro avg       0.82      0.66      0.70      4705\n",
      "weighted avg       0.88      0.89      0.87      4705\n",
      "\n"
     ]
    }
   ],
   "source": [
    "from sklearn.ensemble import GradientBoostingClassifier\n",
    "\n",
    "model = GradientBoostingClassifier(n_estimators=100, learning_rate=0.1)\n",
    "model.fit(x_train, y_train)\n",
    "G_pred = model.predict(x_test)\n",
    "\n",
    "# Evaluate\n",
    "accuracy = accuracy_score(y_test, G_pred)\n",
    "print(f\"Gradient Boosting Accuracy: {accuracy}\")\n",
    "print(classification_report(y_test, G_pred))"
   ]
  },
  {
   "cell_type": "code",
   "execution_count": 69,
   "id": "8985676f-c992-4e6e-80dd-a6aa45aa22aa",
   "metadata": {},
   "outputs": [],
   "source": [
    "import pickle\n",
    "with open (\"Financial Inclusion GradBoostmodel.pkl\",\"wb\") as file:\n",
    "    pickle.dump(model,file)"
   ]
  },
  {
   "cell_type": "markdown",
   "id": "3d778f09-46a5-4388-814d-db3d04e86cec",
   "metadata": {},
   "source": [
    "### Naive Bayes"
   ]
  },
  {
   "cell_type": "code",
   "execution_count": 71,
   "id": "b0851283-a65b-4e2d-adf0-6a8f8084275c",
   "metadata": {},
   "outputs": [
    {
     "name": "stdout",
     "output_type": "stream",
     "text": [
      "Naive Bayes Accuracy: 0.834643995749203\n",
      "              precision    recall  f1-score   support\n",
      "\n",
      "           0       0.92      0.89      0.90      4036\n",
      "           1       0.43      0.52      0.47       669\n",
      "\n",
      "    accuracy                           0.83      4705\n",
      "   macro avg       0.67      0.70      0.69      4705\n",
      "weighted avg       0.85      0.83      0.84      4705\n",
      "\n"
     ]
    }
   ],
   "source": [
    "from sklearn.naive_bayes import GaussianNB\n",
    "\n",
    "model = GaussianNB()\n",
    "model.fit(x_train, y_train)\n",
    "N_pred = model.predict(x_test)\n",
    "\n",
    "# Evaluate\n",
    "accuracy = accuracy_score(y_test, N_pred)\n",
    "print(f\"Naive Bayes Accuracy: {accuracy}\")\n",
    "print(classification_report(y_test, N_pred))"
   ]
  },
  {
   "cell_type": "markdown",
   "id": "e56bd56b-1dbd-4975-a8f2-b6b2c38d0867",
   "metadata": {},
   "source": [
    "### Neural Network (MLP Classifier)"
   ]
  },
  {
   "cell_type": "code",
   "execution_count": 73,
   "id": "3fde3911-2d95-4ef3-b21d-f0aac263b31e",
   "metadata": {},
   "outputs": [
    {
     "name": "stdout",
     "output_type": "stream",
     "text": [
      "Neural Network Accuracy: 0.8805526036131774\n",
      "              precision    recall  f1-score   support\n",
      "\n",
      "           0       0.90      0.97      0.93      4036\n",
      "           1       0.67      0.32      0.43       669\n",
      "\n",
      "    accuracy                           0.88      4705\n",
      "   macro avg       0.78      0.64      0.68      4705\n",
      "weighted avg       0.86      0.88      0.86      4705\n",
      "\n"
     ]
    }
   ],
   "source": [
    "from sklearn.neural_network import MLPClassifier\n",
    "\n",
    "model = MLPClassifier(hidden_layer_sizes=(100,), max_iter=300)\n",
    "model.fit(x_train, y_train)\n",
    "N_pred = model.predict(x_test)\n",
    "\n",
    "# Evaluate\n",
    "accuracy = accuracy_score(y_test, N_pred)\n",
    "print(f\"Neural Network Accuracy: {accuracy}\")\n",
    "print(classification_report(y_test, N_pred))"
   ]
  }
 ],
 "metadata": {
  "kernelspec": {
   "display_name": "Python 3 (ipykernel)",
   "language": "python",
   "name": "python3"
  },
  "language_info": {
   "codemirror_mode": {
    "name": "ipython",
    "version": 3
   },
   "file_extension": ".py",
   "mimetype": "text/x-python",
   "name": "python",
   "nbconvert_exporter": "python",
   "pygments_lexer": "ipython3",
   "version": "3.9.19"
  }
 },
 "nbformat": 4,
 "nbformat_minor": 5
}
